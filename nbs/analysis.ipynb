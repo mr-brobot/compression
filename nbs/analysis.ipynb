{
 "cells": [
  {
   "cell_type": "code",
   "execution_count": 2,
   "metadata": {
    "vscode": {
     "languageId": "shellscript"
    }
   },
   "outputs": [
    {
     "name": "stdout",
     "output_type": "stream",
     "text": [
      "Defaulting to user installation because normal site-packages is not writeable\n",
      "Requirement already satisfied: matplotlib in /home/vscode/.local/lib/python3.12/site-packages (3.9.0)\n",
      "Requirement already satisfied: numpy in /home/vscode/.local/lib/python3.12/site-packages (1.26.4)\n",
      "Requirement already satisfied: pandas in /home/vscode/.local/lib/python3.12/site-packages (2.2.2)\n",
      "Requirement already satisfied: pyarrow in /home/vscode/.local/lib/python3.12/site-packages (16.1.0)\n",
      "Requirement already satisfied: python-snappy in /home/vscode/.local/lib/python3.12/site-packages (0.7.1)\n",
      "Requirement already satisfied: bitarray in /home/vscode/.local/lib/python3.12/site-packages (2.9.2)\n",
      "Requirement already satisfied: contourpy>=1.0.1 in /home/vscode/.local/lib/python3.12/site-packages (from matplotlib) (1.2.1)\n",
      "Requirement already satisfied: cycler>=0.10 in /home/vscode/.local/lib/python3.12/site-packages (from matplotlib) (0.12.1)\n",
      "Requirement already satisfied: fonttools>=4.22.0 in /home/vscode/.local/lib/python3.12/site-packages (from matplotlib) (4.52.1)\n",
      "Requirement already satisfied: kiwisolver>=1.3.1 in /home/vscode/.local/lib/python3.12/site-packages (from matplotlib) (1.4.5)\n",
      "Requirement already satisfied: packaging>=20.0 in /home/vscode/.local/lib/python3.12/site-packages (from matplotlib) (24.0)\n",
      "Requirement already satisfied: pillow>=8 in /home/vscode/.local/lib/python3.12/site-packages (from matplotlib) (10.3.0)\n",
      "Requirement already satisfied: pyparsing>=2.3.1 in /home/vscode/.local/lib/python3.12/site-packages (from matplotlib) (3.1.2)\n",
      "Requirement already satisfied: python-dateutil>=2.7 in /home/vscode/.local/lib/python3.12/site-packages (from matplotlib) (2.9.0.post0)\n",
      "Requirement already satisfied: pytz>=2020.1 in /home/vscode/.local/lib/python3.12/site-packages (from pandas) (2024.1)\n",
      "Requirement already satisfied: tzdata>=2022.7 in /home/vscode/.local/lib/python3.12/site-packages (from pandas) (2024.1)\n",
      "Requirement already satisfied: cramjam in /home/vscode/.local/lib/python3.12/site-packages (from python-snappy) (2.8.3)\n",
      "Requirement already satisfied: six>=1.5 in /home/vscode/.local/lib/python3.12/site-packages (from python-dateutil>=2.7->matplotlib) (1.16.0)\n",
      "Note: you may need to restart the kernel to use updated packages.\n"
     ]
    }
   ],
   "source": [
    "%pip install matplotlib numpy pandas pyarrow python-snappy bitarray"
   ]
  },
  {
   "cell_type": "markdown",
   "metadata": {},
   "source": [
    "# Acquire Data"
   ]
  },
  {
   "cell_type": "code",
   "execution_count": 3,
   "metadata": {},
   "outputs": [],
   "source": [
    "import os\n",
    "import zipfile\n",
    "import urllib.request\n",
    "import shutil\n",
    "from pathlib import Path\n",
    "\n",
    "url = \"https://content.neuralink.com/compression-challenge/data.zip\"\n",
    "\n",
    "data_dir = Path(\"..\") / \"data\"\n",
    "if data_dir.exists():\n",
    "    shutil.rmtree(data_dir)\n",
    "    data_dir.mkdir()\n",
    "\n",
    "# download the file\n",
    "with urllib.request.urlopen(url) as response, open(\"data.zip\", 'wb') as out_file:\n",
    "    shutil.copyfileobj(response, out_file)\n",
    "\n",
    "# extract the zip file\n",
    "with zipfile.ZipFile(\"data.zip\", 'r') as zip_ref:\n",
    "    zip_ref.extractall(\"..\")\n",
    "\n",
    "# remove the zip file\n",
    "os.remove(\"data.zip\")"
   ]
  },
  {
   "cell_type": "code",
   "execution_count": 4,
   "metadata": {},
   "outputs": [
    {
     "data": {
      "text/plain": [
       "[PosixPath('../data/8dd8051b-94d0-4c73-9cf4-3447cbb0755d.wav'),\n",
       " PosixPath('../data/2a661247-dfa0-42b2-9d0a-a5925ac8735a.wav'),\n",
       " PosixPath('../data/e48befb9-a32a-4bcc-af7a-2cd62d76888c.wav')]"
      ]
     },
     "execution_count": 4,
     "metadata": {},
     "output_type": "execute_result"
    }
   ],
   "source": [
    "file_paths = list(data_dir.iterdir())\n",
    "\n",
    "file_paths[:3]"
   ]
  },
  {
   "cell_type": "markdown",
   "metadata": {},
   "source": [
    "# File Analysis"
   ]
  },
  {
   "cell_type": "code",
   "execution_count": 5,
   "metadata": {},
   "outputs": [
    {
     "name": "stdout",
     "output_type": "stream",
     "text": [
      "num_channels: 1\n",
      "sample_rate: 19531\n",
      "sample_width: 2\n",
      "num_frames: 98634\n",
      "duration: 5.050125441605653\n",
      "compression: NONE\n"
     ]
    }
   ],
   "source": [
    "import wave\n",
    "\n",
    "file_path = file_paths[0]\n",
    "\n",
    "with wave.open(str(file_path), 'rb') as f:\n",
    "    num_channels = f.getnchannels()\n",
    "    sample_rate = f.getframerate()\n",
    "    sample_width = f.getsampwidth()\n",
    "    num_frames = f.getnframes()\n",
    "    duration = num_frames / sample_rate\n",
    "    compression = f.getcomptype()\n",
    "\n",
    "    print(f\"num_channels: {num_channels}\")\n",
    "    print(f\"sample_rate: {sample_rate}\")\n",
    "    print(f\"sample_width: {sample_width}\")\n",
    "    print(f\"num_frames: {num_frames}\")\n",
    "    print(f\"duration: {duration}\")\n",
    "    print(f\"compression: {compression}\")\n"
   ]
  },
  {
   "cell_type": "markdown",
   "metadata": {},
   "source": [
    "Single channel (mono), ~19.5 kHz sample rate, 2-byte samples. Assuming little-endian representation."
   ]
  },
  {
   "cell_type": "code",
   "execution_count": 6,
   "metadata": {},
   "outputs": [
    {
     "name": "stdout",
     "output_type": "stream",
     "text": [
      "-3235\n",
      "-4068\n",
      "-3812\n"
     ]
    }
   ],
   "source": [
    "import wave\n",
    "\n",
    "file_path = file_paths[0]\n",
    "\n",
    "with wave.open(str(file_path), 'rb') as f:\n",
    "    frames = f.readframes(3)\n",
    "    for xi, xj in zip(frames[::2], frames[1::2]):\n",
    "        y = int.from_bytes([xi, xj], byteorder='little', signed=True)\n",
    "        print(y)\n"
   ]
  },
  {
   "cell_type": "code",
   "execution_count": 7,
   "metadata": {},
   "outputs": [
    {
     "name": "stdout",
     "output_type": "stream",
     "text": [
      "length: 98634\n",
      "min: -10474\n",
      "max: 12587\n",
      "ndv_ratio: 0.003507918162094207\n"
     ]
    }
   ],
   "source": [
    "from typing import Collection\n",
    "from pathlib import Path\n",
    "\n",
    "def get_samples(path: Path) -> \"Collection[int]\":\n",
    "    with wave.open(str(path), 'rb') as f:\n",
    "        frames = f.readframes(f.getnframes())\n",
    "        return [int.from_bytes([xi, xj], 'little', signed=True) for xi, xj in zip(frames[::2], frames[1::2])]\n",
    "    \n",
    "samples = get_samples(file_paths[0])\n",
    "\n",
    "print(f\"length: {len(samples)}\")\n",
    "print(f\"min: {min(samples)}\")\n",
    "print(f\"max: {max(samples)}\")\n",
    "print(f\"ndv_ratio: {len(set(samples)) / len(samples)}\")"
   ]
  },
  {
   "cell_type": "code",
   "execution_count": 8,
   "metadata": {},
   "outputs": [
    {
     "data": {
      "image/png": "[encoded data removed]",
      "text/plain": [
       "<Figure size 640x480 with 1 Axes>"
      ]
     },
     "metadata": {},
     "output_type": "display_data"
    }
   ],
   "source": [
    "import matplotlib.pyplot as plt\n",
    "\n",
    "get_samples(file_paths[0])\n",
    "\n",
    "plt.plot(samples);"
   ]
  },
  {
   "cell_type": "markdown",
   "metadata": {},
   "source": [
    "# Delta Encoding"
   ]
  },
  {
   "cell_type": "code",
   "execution_count": 9,
   "metadata": {},
   "outputs": [
    {
     "name": "stdout",
     "output_type": "stream",
     "text": [
      "length: 98634\n",
      "min: -3235\n",
      "max: 5189\n",
      "ndv_ratio: 0.0012470344911490966\n"
     ]
    }
   ],
   "source": [
    "from typing import Collection\n",
    "\n",
    "def delta_encode(x: Collection[int]) -> Collection[int]:\n",
    "    result = [x[0]]\n",
    "    for i in range(1, len(x)):\n",
    "        result.append(x[i] - x[i - 1])\n",
    "    return result\n",
    "\n",
    "def delta_decode(x: Collection[int]) -> Collection[int]:\n",
    "    result = [x[0]]\n",
    "    for i in range(1, len(x)):\n",
    "        result.append(result[i - 1] + x[i])\n",
    "    return result\n",
    "\n",
    "# tests\n",
    "delta_test = [1, 3, 6, 10, 15]\n",
    "assert delta_encode(delta_test) == [1, 2, 3, 4, 5]\n",
    "assert delta_decode(delta_encode(delta_test)) == delta_test\n",
    "\n",
    "deltas = delta_encode(samples)\n",
    "\n",
    "assert samples == delta_decode(deltas)\n",
    "\n",
    "print(f\"length: {len(deltas)}\")\n",
    "print(f\"min: {min(deltas)}\")\n",
    "print(f\"max: {max(deltas)}\")\n",
    "print(f\"ndv_ratio: {len(set(deltas)) / len(deltas)}\")"
   ]
  },
  {
   "cell_type": "code",
   "execution_count": 10,
   "metadata": {},
   "outputs": [
    {
     "data": {
      "image/png": "[encoded data removed]",
      "text/plain": [
       "<Figure size 640x480 with 1 Axes>"
      ]
     },
     "metadata": {},
     "output_type": "display_data"
    }
   ],
   "source": [
    "plt.plot(deltas);"
   ]
  },
  {
   "cell_type": "code",
   "execution_count": 11,
   "metadata": {},
   "outputs": [
    {
     "name": "stdout",
     "output_type": "stream",
     "text": [
      "length: 98634\n",
      "min: -4997\n",
      "max: 5253\n",
      "ndv_ratio: 0.0032747328507411236\n"
     ]
    }
   ],
   "source": [
    "ddeltas = delta_encode(deltas)\n",
    "\n",
    "assert samples == delta_decode(delta_decode(ddeltas))\n",
    "\n",
    "print(f\"length: {len(ddeltas)}\")\n",
    "print(f\"min: {min(ddeltas)}\")\n",
    "\n",
    "print(f\"max: {max(ddeltas)}\")\n",
    "print(f\"ndv_ratio: {len(set(ddeltas)) / len(ddeltas)}\")"
   ]
  },
  {
   "cell_type": "code",
   "execution_count": 12,
   "metadata": {},
   "outputs": [
    {
     "data": {
      "image/png": "[encoded data removed]",
      "text/plain": [
       "<Figure size 640x480 with 1 Axes>"
      ]
     },
     "metadata": {},
     "output_type": "display_data"
    }
   ],
   "source": [
    "plt.plot(ddeltas);"
   ]
  },
  {
   "cell_type": "markdown",
   "metadata": {},
   "source": [
    "Delta encoding produces smaller integer values than delta-delta encoding. "
   ]
  },
  {
   "cell_type": "markdown",
   "metadata": {},
   "source": [
    "# Dynamic FOR Encoding"
   ]
  },
  {
   "cell_type": "markdown",
   "metadata": {},
   "source": [
    "Many local areas of the input data share a common frame of reference, where the deviation from the mean is small. This suggests that a dynamic frame-of-reference could be effective.\n",
    "\n",
    "Delta encoding essentially uses the previous value as the frame of reference. So FOR encoding is redundant prior to delta encoding. However, there are several sections in velocity-space that have a common frame of reference."
   ]
  },
  {
   "cell_type": "code",
   "execution_count": 115,
   "metadata": {},
   "outputs": [
    {
     "data": {
      "text/plain": [
       "4096"
      ]
     },
     "execution_count": 115,
     "metadata": {},
     "output_type": "execute_result"
    },
    {
     "data": {
      "image/png": "[encoded data removed]",
      "text/plain": [
       "<Figure size 640x480 with 1 Axes>"
      ]
     },
     "metadata": {},
     "output_type": "display_data"
    }
   ],
   "source": [
    "b = 410\n",
    "plt.plot(deltas[b:b+5]);\n",
    "2**12"
   ]
  },
  {
   "cell_type": "code",
   "execution_count": null,
   "metadata": {},
   "outputs": [],
   "source": [
    "# dfor metadata format:\n",
    "#    - Base (must be able to represent as 16-bit signed integer)\n",
    "#    - Relative start location from previous FOR (must be able to represent as 16-bit unsigned integer)\n",
    "\n",
    "# as we iterate over integers, behaviour changes whether or not there is an active FOR\n",
    "\n",
    "from typing import Collection, Tuple\n",
    "\n",
    "def dfor_encode(x: Collection[int]) -> Tuple[Collection[int], Collection[int]]:\n",
    "    \"\"\"\n",
    "    input: collection of integers\n",
    "    output: tuple where\n",
    "        first output is list of 32-bit integers (first 16-bits are base, second 16-bits are relative start location from previous FOR)\n",
    "        second output is list of bit-packed 16-bit integers\n",
    "    \n",
    "    frame of reference ends when any of the following conditions are true\n",
    "        - current value is more than +-7 away from the base\n",
    "        - current value is more than \n",
    "    \"\"\"\n",
    "    pass"
   ]
  },
  {
   "cell_type": "markdown",
   "metadata": {},
   "source": [
    "# Dictionary Encoding"
   ]
  },
  {
   "cell_type": "markdown",
   "metadata": {},
   "source": [
    "Due to \"bounce\" in data, delta-delta encoding (acceleration) is not as effective as delta encoding (velocity). The delta-encoded data has a very low NDV ratio, so dictionary encoding will be effective."
   ]
  },
  {
   "cell_type": "code",
   "execution_count": 90,
   "metadata": {},
   "outputs": [],
   "source": [
    "from typing import Collection, Tuple\n",
    "\n",
    "def dict_encode(x: Collection[int]) -> Tuple[Collection[int], Collection[int]]:\n",
    "    \"\"\"\n",
    "    returns tuple\n",
    "        where first member is dictionary represented as list of unique values in x\n",
    "        and second membder is x encoded using dictionary\n",
    "    \"\"\"\n",
    "    d = dict()\n",
    "    result = list()\n",
    "\n",
    "    for xi in x:\n",
    "        if xi not in d:\n",
    "            d[xi] = len(d)\n",
    "        result.append(d[xi])\n",
    "\n",
    "    return list(d.keys()), result\n",
    "\n",
    "def dict_decode(d: Collection[int], x: Collection[int]) -> Collection[int]:\n",
    "    \"\"\"\n",
    "    returns x decoded using dictionary d\n",
    "    \"\"\"\n",
    "    return [d[xi] for xi in x]\n",
    "\n",
    "# tests\n",
    "d, e = dict_encode(samples)\n",
    "assert dict_decode(d, e) == samples"
   ]
  },
  {
   "cell_type": "code",
   "execution_count": 91,
   "metadata": {},
   "outputs": [
    {
     "name": "stdout",
     "output_type": "stream",
     "text": [
      "length: 98634\n",
      "min: 0\n",
      "max: 122\n",
      "ndv_ratio: 0.0012470344911490966\n",
      "[-3235, -833, 256, 321, -193, -192, 257, -128, -384, -64]\n",
      "[2, 9, 24, 2, 9, 13, 23, 5, 35, 7]\n"
     ]
    }
   ],
   "source": [
    "d, e = dict_encode(deltas)\n",
    "\n",
    "print(f\"length: {len(e)}\")\n",
    "print(f\"min: {min(e)}\")\n",
    "print(f\"max: {max(e)}\")\n",
    "print(f\"ndv_ratio: {len(set(e)) / len(e)}\")\n",
    "\n",
    "print(d[:10])\n",
    "print(e[100:110])"
   ]
  },
  {
   "cell_type": "code",
   "execution_count": 92,
   "metadata": {},
   "outputs": [
    {
     "data": {
      "image/png": "[encoded data removed]",
      "text/plain": [
       "<Figure size 640x480 with 1 Axes>"
      ]
     },
     "metadata": {},
     "output_type": "display_data"
    }
   ],
   "source": [
    "plt.plot(e);"
   ]
  },
  {
   "cell_type": "markdown",
   "metadata": {},
   "source": [
    "Dictionary-encoded deltas range from 0 to 122. Can be represented using 8-bit unsigned integer."
   ]
  },
  {
   "cell_type": "markdown",
   "metadata": {},
   "source": [
    "# Dict-Sort Encoding"
   ]
  },
  {
   "cell_type": "markdown",
   "metadata": {},
   "source": [
    "Attempt to sort the dictionary and re-encode values. This might be helpful prior to delta encoding, since we'll be measuring the difference in each step."
   ]
  },
  {
   "cell_type": "code",
   "execution_count": 93,
   "metadata": {},
   "outputs": [],
   "source": [
    "from typing import Collection, Tuple\n",
    "\n",
    "def dict_sort(d: Collection[int], x: Collection[int]) -> Tuple[Collection[int], Collection[int]]:\n",
    "    \"\"\"\n",
    "    sorts the dictionary provided in d, then re-encodes values in x\n",
    "    \"\"\"\n",
    "    # clone d\n",
    "    sd = d[:]\n",
    "    sorted(sd)\n",
    "\n",
    "    # create index\n",
    "    t = {sv: si for si, sv in enumerate(sd)}\n",
    "    v = dict_decode(d, x)\n",
    "    se = [t[sv] for sv in v]\n",
    "    return sd, se\n",
    "\n",
    "# tests\n",
    "sd, se = dict_sort(d, e)\n",
    "assert dict_decode(sd, se) == deltas"
   ]
  },
  {
   "cell_type": "code",
   "execution_count": 95,
   "metadata": {},
   "outputs": [
    {
     "data": {
      "image/png": "[encoded data removed]",
      "text/plain": [
       "<Figure size 640x480 with 1 Axes>"
      ]
     },
     "metadata": {},
     "output_type": "display_data"
    }
   ],
   "source": [
    "sd, se = dict_sort(*dict_encode(deltas))\n",
    "\n",
    "plt.plot(se);"
   ]
  },
  {
   "cell_type": "code",
   "execution_count": 125,
   "metadata": {},
   "outputs": [
    {
     "data": {
      "text/plain": [
       "(197268, 98634)"
      ]
     },
     "execution_count": 125,
     "metadata": {},
     "output_type": "execute_result"
    }
   ],
   "source": [
    "len(samples) * 2, len(se)"
   ]
  },
  {
   "cell_type": "markdown",
   "metadata": {},
   "source": [
    "No use for current implementation."
   ]
  },
  {
   "cell_type": "markdown",
   "metadata": {},
   "source": [
    "# Simple-8b Encoding"
   ]
  },
  {
   "cell_type": "markdown",
   "metadata": {},
   "source": [
    "Since dictionary values are small, with most integer values in the range 0-15, we can efficiently store using fewer bits when possible. Using simple-8b encoding, we store integers in blocks with the bit width of each member stored in the first 4 bits.\n",
    "\n",
    "This approach requires some additional metadata per block, but given the data skew there is a high likelihood that it will be effective."
   ]
  },
  {
   "cell_type": "code",
   "execution_count": 106,
   "metadata": {},
   "outputs": [
    {
     "name": "stdout",
     "output_type": "stream",
     "text": [
      "bitarray('00100001 01000011 01100101')\n",
      "bitarray('11001000 10010110 01100100 00001100 11011110 00000110')\n"
     ]
    }
   ],
   "source": [
    "from typing import Collection\n",
    "from bitarray import bitarray\n",
    "from bitarray.util import pprint\n",
    "\n",
    "def simple_8b_block_encode(x: Collection[int], width: int) -> bytes:\n",
    "    assert width in (4, 8, 16), \"supported bit-widths are 4, 8, or 16\"\n",
    "    buffer_size = (len(x) * width + 7) // 8\n",
    "    \n",
    "    buffer = bytearray(buffer_size)\n",
    "\n",
    "    for i, value in enumerate(x):\n",
    "        # Calculate the index in the buffer where this value should be stored\n",
    "        index = i // (8 // width)\n",
    "\n",
    "        # Calculate the position within the byte where this value should be stored\n",
    "        position = (i % (8 // width)) * width\n",
    "\n",
    "        # Store the value in the buffer\n",
    "        buffer[index] |= (value << position)\n",
    "\n",
    "    return bytes(buffer)\n",
    "\n",
    "def simple_8b_block_decode(x: bytes, width: int) -> Collection[int]:\n",
    "    assert width in (4, 8, 16), \"supported bit-widths are 4, 8, or 16\"\n",
    "    num_values = len(x) * (8 // width)\n",
    "\n",
    "    values = [0] * num_values\n",
    "\n",
    "    for i, byte in enumerate(x):\n",
    "        for j in range(8 // width):\n",
    "            # Calculate the index in the values list where this value should be stored\n",
    "            index = i * (8 // width) + j\n",
    "\n",
    "            # Calculate the position within the byte where this value is stored\n",
    "            position = j * width\n",
    "\n",
    "            # Extract the value from the byte\n",
    "            values[index] = (byte >> position) & ((1 << width) - 1)\n",
    "\n",
    "    return values\n",
    "\n",
    "# tests\n",
    "i = [1, 2, 3, 4, 5, 6]\n",
    "j = simple_8b_block_encode(i, 4)\n",
    "k = simple_8b_block_decode(j, 4)\n",
    "\n",
    "r = bitarray()\n",
    "r.frombytes(j)\n",
    "pprint(r)\n",
    "\n",
    "assert i == k\n",
    "\n",
    "i = [200, 150, 100, 12, 222, 6]\n",
    "j = simple_8b_block_encode(i, 8)\n",
    "k = simple_8b_block_decode(j, 8)\n",
    "\n",
    "r = bitarray()\n",
    "r.frombytes(j)\n",
    "pprint(r)\n",
    "\n",
    "assert i == k"
   ]
  },
  {
   "cell_type": "code",
   "execution_count": 107,
   "metadata": {},
   "outputs": [],
   "source": [
    "from typing import Collection, Tuple\n",
    "from bitarray import bitarray\n",
    "\n",
    "def encode_simple_8b_header(block_size: int, block_widths: Collection[int]) -> bytes:\n",
    "    \"\"\"\n",
    "    encodes header in the following format\n",
    "    block_size input must be a power of 2\n",
    "    [4-bit log block size][2-bit block widths][0-padding to end of byte]\n",
    "    Where block width values are:\n",
    "    - 00: end\n",
    "    - 01: 4\n",
    "    - 10: 8\n",
    "    - 11: 16\n",
    "\n",
    "    since byte ending in 00 indicates end of block widths,\n",
    "    header must be padded to end of byte. block widths are a multiple of 4\n",
    "    then need to append a 0-byte to indicate end of block widths\n",
    "    \"\"\"\n",
    "    # ensure block size is power of 2\n",
    "    assert block_size & (block_size - 1) == 0, \"Block size must be a power of 2\"\n",
    "\n",
    "    log_block_size = block_size.bit_length() - 1\n",
    "\n",
    "    # extend to `log_block_size` 4 bits, padding with 0s\n",
    "    formatted_log_block_size = bin(log_block_size).lstrip('0b')\n",
    "    formatted_log_block_size = '0' * (4 - len(formatted_log_block_size)) + formatted_log_block_size\n",
    "\n",
    "    result = bitarray(formatted_log_block_size)\n",
    "\n",
    "    for width in block_widths:\n",
    "        match width:\n",
    "            case 4:\n",
    "                result += bitarray('01')\n",
    "            case 8:\n",
    "                result += bitarray('10')\n",
    "            case 16:\n",
    "                result += bitarray('11')\n",
    "            case _:\n",
    "                raise ValueError(f\"Invalid block width: {width}\")\n",
    "\n",
    "    result += bitarray('00')\n",
    "\n",
    "    while len(result) % 8 != 0:\n",
    "        result += bitarray('00')\n",
    "\n",
    "    return bytes(result)\n",
    "\n",
    "def decode_simple_8b_header(x: bytes) -> Tuple[int, Collection[int]]:\n",
    "    buffer = bitarray()\n",
    "    buffer.frombytes(x)\n",
    "\n",
    "    log_block_size = int.from_bytes(bytes(buffer[:4]), 'little', signed=False) >> 4\n",
    "    block_size = 2 ** log_block_size\n",
    "\n",
    "    block_widths = list()\n",
    "    for i in range(4, len(buffer), 2):\n",
    "        y = buffer[i:i + 2]\n",
    "        \n",
    "        if y == bitarray('00'):\n",
    "            break\n",
    "        elif y == bitarray('01'):\n",
    "            block_widths.append(4)\n",
    "        elif y == bitarray('10'):\n",
    "            block_widths.append(8)\n",
    "        elif y == bitarray('11'):\n",
    "            block_widths.append(16)\n",
    "\n",
    "    return block_size, block_widths\n",
    "    \n",
    "\n",
    "# tests\n",
    "i = encode_simple_8b_header(8, [4, 8, 16])\n",
    "assert i == bytes(bitarray('00110110 11000000')) # 0011 0110 1100 0000\n",
    "j, k = decode_simple_8b_header(i)\n",
    "assert j == 8\n",
    "assert k == [4, 8, 16]"
   ]
  },
  {
   "cell_type": "code",
   "execution_count": 123,
   "metadata": {},
   "outputs": [
    {
     "data": {
      "text/plain": [
       "(98634, 102424)"
      ]
     },
     "execution_count": 123,
     "metadata": {},
     "output_type": "execute_result"
    }
   ],
   "source": [
    "from typing import Collection\n",
    "\n",
    "def simple_8b_encode(x: Collection[int], block_size: int = 16) -> bytes:\n",
    "    \"\"\"\n",
    "    input:\n",
    "        - x is input array of 16-bit unsigned integers\n",
    "        - block_size is number of integers include in each block\n",
    "    output:\n",
    "        bytes object where integers are encoded in blocks\n",
    "        first 4-bits of each block is bit-width of each encoded value\n",
    "        each subsequent value is encoded using the bit-width of the block\n",
    "    \"\"\"\n",
    "    block_widths = []\n",
    "    blocks = []\n",
    "\n",
    "    for i in range(0, len(x), block_size):\n",
    "        block = x[i:i + block_size]\n",
    "\n",
    "        if not block:\n",
    "            break\n",
    "\n",
    "        if max(block) < 2 ** 4:\n",
    "            block_widths.append(4)\n",
    "            blocks.append(simple_8b_block_encode(block, 4))\n",
    "        elif max(block) < 2 ** 8:\n",
    "            block_widths.append(8)\n",
    "            blocks.append(simple_8b_block_encode(block, 8))\n",
    "        else:\n",
    "            block_widths.append(16)\n",
    "            blocks.append(simple_8b_block_encode(block, 16))\n",
    "    \n",
    "    result = encode_simple_8b_header(block_size, block_widths)\n",
    "    for block in blocks:\n",
    "        result += block\n",
    "\n",
    "    return result\n",
    "\n",
    "def simple_8b_decode(x: bytes) -> Collection[int]:\n",
    "    \"\"\"\n",
    "    input:\n",
    "        - x is the input bytes object containing encoded blocks\n",
    "        - block_size is the number of integers included in each block\n",
    "    output:\n",
    "        list of decoded 16-bit unsigned integers\n",
    "    \"\"\"\n",
    "    block_size, block_widths = decode_simple_8b_header(x)\n",
    "    blocks = x[len(encode_simple_8b_header(block_size, block_widths)):]\n",
    "\n",
    "    result = []\n",
    "    for i in range(0, len(blocks), block_size):\n",
    "        block = blocks[i:i + block_size]\n",
    "        if not block:\n",
    "            break\n",
    "\n",
    "        if block_widths[i // block_size] == 4:\n",
    "            result += simple_8b_block_decode(block, 4)\n",
    "        elif block_widths[i // block_size] == 8:\n",
    "            result += simple_8b_block_decode(block, 8)\n",
    "        else:\n",
    "            result += simple_8b_block_decode(block, 16)\n",
    "\n",
    "    return result\n",
    "\n",
    "j = simple_8b_encode(e, 4)\n",
    "\n",
    "# assert simple_8b_decode(j) == e\n",
    "\n",
    "len(e), len(j)"
   ]
  },
  {
   "cell_type": "code",
   "execution_count": 116,
   "metadata": {},
   "outputs": [
    {
     "data": {
      "text/plain": [
       "0.9833702219297721"
      ]
     },
     "execution_count": 116,
     "metadata": {},
     "output_type": "execute_result"
    }
   ],
   "source": [
    "len(e) / len(j)"
   ]
  },
  {
   "cell_type": "markdown",
   "metadata": {},
   "source": [
    "Current implementation is not effective."
   ]
  },
  {
   "cell_type": "markdown",
   "metadata": {},
   "source": [
    "# Visualization"
   ]
  },
  {
   "cell_type": "code",
   "execution_count": 117,
   "metadata": {},
   "outputs": [
    {
     "data": {
      "text/html": [
       "<div>\n",
       "<style scoped>\n",
       "    .dataframe tbody tr th:only-of-type {\n",
       "        vertical-align: middle;\n",
       "    }\n",
       "\n",
       "    .dataframe tbody tr th {\n",
       "        vertical-align: top;\n",
       "    }\n",
       "\n",
       "    .dataframe thead th {\n",
       "        text-align: right;\n",
       "    }\n",
       "</style>\n",
       "<table border=\"1\" class=\"dataframe\">\n",
       "  <thead>\n",
       "    <tr style=\"text-align: right;\">\n",
       "      <th></th>\n",
       "      <th>x</th>\n",
       "      <th>v</th>\n",
       "      <th>a</th>\n",
       "      <th>e</th>\n",
       "    </tr>\n",
       "  </thead>\n",
       "  <tbody>\n",
       "    <tr>\n",
       "      <th>0</th>\n",
       "      <td>-3235</td>\n",
       "      <td>-3235</td>\n",
       "      <td>-3235</td>\n",
       "      <td>0</td>\n",
       "    </tr>\n",
       "    <tr>\n",
       "      <th>1</th>\n",
       "      <td>-4068</td>\n",
       "      <td>-833</td>\n",
       "      <td>2402</td>\n",
       "      <td>1</td>\n",
       "    </tr>\n",
       "    <tr>\n",
       "      <th>2</th>\n",
       "      <td>-3812</td>\n",
       "      <td>256</td>\n",
       "      <td>1089</td>\n",
       "      <td>2</td>\n",
       "    </tr>\n",
       "    <tr>\n",
       "      <th>3</th>\n",
       "      <td>-3491</td>\n",
       "      <td>321</td>\n",
       "      <td>65</td>\n",
       "      <td>3</td>\n",
       "    </tr>\n",
       "    <tr>\n",
       "      <th>4</th>\n",
       "      <td>-3684</td>\n",
       "      <td>-193</td>\n",
       "      <td>-514</td>\n",
       "      <td>4</td>\n",
       "    </tr>\n",
       "  </tbody>\n",
       "</table>\n",
       "</div>"
      ],
      "text/plain": [
       "      x     v     a  e\n",
       "0 -3235 -3235 -3235  0\n",
       "1 -4068  -833  2402  1\n",
       "2 -3812   256  1089  2\n",
       "3 -3491   321    65  3\n",
       "4 -3684  -193  -514  4"
      ]
     },
     "execution_count": 117,
     "metadata": {},
     "output_type": "execute_result"
    }
   ],
   "source": [
    "import pandas as pd\n",
    "\n",
    "# position, velocity, & dict-encoded velocity\n",
    "df = pd.DataFrame({\"x\": samples, \"v\": deltas, \"a\": delta_encode(deltas), \"e\": e})\n",
    "\n",
    "df.head()"
   ]
  },
  {
   "cell_type": "code",
   "execution_count": 117,
   "metadata": {},
   "outputs": [
    {
     "data": {
      "text/html": [
       "<div>\n",
       "<style scoped>\n",
       "    .dataframe tbody tr th:only-of-type {\n",
       "        vertical-align: middle;\n",
       "    }\n",
       "\n",
       "    .dataframe tbody tr th {\n",
       "        vertical-align: top;\n",
       "    }\n",
       "\n",
       "    .dataframe thead th {\n",
       "        text-align: right;\n",
       "    }\n",
       "</style>\n",
       "<table border=\"1\" class=\"dataframe\">\n",
       "  <thead>\n",
       "    <tr style=\"text-align: right;\">\n",
       "      <th></th>\n",
       "      <th>k</th>\n",
       "      <th>v</th>\n",
       "    </tr>\n",
       "  </thead>\n",
       "  <tbody>\n",
       "    <tr>\n",
       "      <th>0</th>\n",
       "      <td>0</td>\n",
       "      <td>-3235</td>\n",
       "    </tr>\n",
       "    <tr>\n",
       "      <th>1</th>\n",
       "      <td>1</td>\n",
       "      <td>-833</td>\n",
       "    </tr>\n",
       "    <tr>\n",
       "      <th>2</th>\n",
       "      <td>2</td>\n",
       "      <td>256</td>\n",
       "    </tr>\n",
       "    <tr>\n",
       "      <th>3</th>\n",
       "      <td>3</td>\n",
       "      <td>321</td>\n",
       "    </tr>\n",
       "    <tr>\n",
       "      <th>4</th>\n",
       "      <td>4</td>\n",
       "      <td>-193</td>\n",
       "    </tr>\n",
       "  </tbody>\n",
       "</table>\n",
       "</div>"
      ],
      "text/plain": [
       "   k     v\n",
       "0  0 -3235\n",
       "1  1  -833\n",
       "2  2   256\n",
       "3  3   321\n",
       "4  4  -193"
      ]
     },
     "execution_count": 117,
     "metadata": {},
     "output_type": "execute_result"
    }
   ],
   "source": [
    "import pandas as pd\n",
    "\n",
    "# dictionary\n",
    "df = pd.DataFrame({\"k\": range(0, len(d)), \"v\": d})\n",
    "\n",
    "df.head()"
   ]
  },
  {
   "cell_type": "markdown",
   "metadata": {},
   "source": [
    "# Output Format"
   ]
  },
  {
   "cell_type": "markdown",
   "metadata": {},
   "source": [
    "Current best results acheived with following approach:\n",
    "- Delta encoding (reduces range & increased NDV ratio)\n",
    "- Dictionary encoding (only 8-bits required to represent each value)\n",
    "\n",
    "To store this encoding, the following output layout is used:\n",
    "- Encoded samples (Variable size 8-bit unsigned integer sequence)\n",
    "- Dictionary (Variable size 16-bit signed integer sequence)\n",
    "- Length (4-byte unsigned integer representing the number of samples in the encoded sequence)"
   ]
  },
  {
   "cell_type": "code",
   "execution_count": 76,
   "metadata": {},
   "outputs": [
    {
     "data": {
      "text/plain": [
       "[0, 1, 2, 3, 4, 5, 6, 4, 7, 8]"
      ]
     },
     "execution_count": 76,
     "metadata": {},
     "output_type": "execute_result"
    }
   ],
   "source": [
    "from typing import Collection\n",
    "\n",
    "def encode(x: Collection[int]) -> bytes:\n",
    "    \"\"\"\n",
    "    applies delta+dict encoding to `x`\n",
    "    output is bytes in the following format:\n",
    "        - encoded samples (8-bit unsigned integers)\n",
    "        - dictionary (16-bit unsigned integers)\n",
    "        - sample length (4-byte unsigned integer)\n",
    "    \"\"\"\n",
    "    d, e = dict_encode(delta_encode(x))\n",
    "\n",
    "    ebytes = b''.join([xi.to_bytes(1, 'little', signed=False) for xi in e])\n",
    "    dbytes = b''.join([xi.to_bytes(2, 'little', signed=True) for xi in d])\n",
    "    length = len(ebytes).to_bytes(4, 'little', signed=False)\n",
    "\n",
    "    return ebytes + dbytes + length\n",
    "\n",
    "def decode(x: bytes) -> Collection[int]:\n",
    "    \"\"\"\n",
    "    input is bytes in the following format:\n",
    "        - Encoded samples (8-bit unsigned integers)\n",
    "        - Dictionary (16-bit unsigned integers)\n",
    "        - 4-byte length of encoded samples\n",
    "    output is decoded samples\n",
    "    \"\"\"\n",
    "    l = int.from_bytes(x[-4:], 'little', signed=False)\n",
    "    d = [int.from_bytes(x[i:i+2], 'little', signed=True) for i in range(l, len(x) - 4, 2)]\n",
    "    e = [int.from_bytes(x[i:i+1], 'little', signed=False) for i in range(0, l)]\n",
    "\n",
    "    return delta_decode(dict_decode(d, e))\n",
    "\n",
    "encoded = encode(samples)\n",
    "\n",
    "encoded[:100]\n",
    "\n",
    "assert samples == decode(encoded)\n",
    "\n",
    "e[0:10]"
   ]
  },
  {
   "cell_type": "markdown",
   "metadata": {},
   "source": [
    "# Compression"
   ]
  },
  {
   "cell_type": "code",
   "execution_count": 89,
   "metadata": {},
   "outputs": [
    {
     "name": "stdout",
     "output_type": "stream",
     "text": [
      "raw_bytes: 197268\n",
      "encoded_bytes: 98884\n",
      "encoding_ratio: 0.501267311474745\n"
     ]
    }
   ],
   "source": [
    "with wave.open(str(file_path), 'rb') as f:\n",
    "    frames = f.readframes(f.getnframes())\n",
    "    raw_bytes = len(frames)\n",
    "    print(f\"raw_bytes: {raw_bytes}\")\n",
    "    print(f\"encoded_bytes: {len(encoded)}\")\n",
    "    print(f\"encoding_ratio: {len(encoded) / raw_bytes}\")"
   ]
  },
  {
   "cell_type": "code",
   "execution_count": 90,
   "metadata": {},
   "outputs": [
    {
     "name": "stdout",
     "output_type": "stream",
     "text": [
      "compression_bytes: 98892\n"
     ]
    }
   ],
   "source": [
    "import snappy\n",
    "\n",
    "compressed = snappy.compress(encoded, encoding=None)\n",
    "\n",
    "compressed_size_bytes = len(compressed)\n",
    "\n",
    "print(f\"compression_bytes: {compressed_size_bytes}\")"
   ]
  },
  {
   "cell_type": "markdown",
   "metadata": {},
   "source": [
    "Snappy compression provides no benefit."
   ]
  },
  {
   "cell_type": "code",
   "execution_count": 91,
   "metadata": {},
   "outputs": [
    {
     "name": "stdout",
     "output_type": "stream",
     "text": [
      "compression_ratio: 0.501267311474745\n"
     ]
    }
   ],
   "source": [
    "compression_ratio = len(encoded) / raw_bytes\n",
    "\n",
    "print(f\"compression_ratio: {compression_ratio}\")"
   ]
  }
 ],
 "metadata": {
  "kernelspec": {
   "display_name": "Python 3",
   "language": "python",
   "name": "python3"
  },
  "language_info": {
   "codemirror_mode": {
    "name": "ipython",
    "version": 3
   },
   "file_extension": ".py",
   "mimetype": "text/x-python",
   "name": "python",
   "nbconvert_exporter": "python",
   "pygments_lexer": "ipython3",
   "version": "3.12.3"
  }
 },
 "nbformat": 4,
 "nbformat_minor": 2
}
